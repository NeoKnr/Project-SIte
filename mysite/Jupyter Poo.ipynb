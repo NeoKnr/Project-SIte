{
 "cells": [
  {
   "cell_type": "markdown",
   "id": "9bdae682-f013-49b5-9e4a-9ff5b6413133",
   "metadata": {},
   "source": [
    "# Création de la classe mère"
   ]
  },
  {
   "cell_type": "code",
   "execution_count": 42,
   "id": "da0a6449-17f8-43d3-85ec-9acbd1ea0bf6",
   "metadata": {},
   "outputs": [],
   "source": [
    "import random as rdm\n",
    "import sqlite3\n",
    "\n",
    "class Telephone_portable:\n",
    "    nb_telephones_portable = 0\n",
    "    def __init__(self, marque, modele, prix, clapet, coloris):\n",
    "        self.marque = marque\n",
    "        self.modele = modele\n",
    "        self.prix = prix\n",
    "        self.clapet = clapet\n",
    "        self.coloris = coloris\n",
    "        Telephone_portable.nb_telephones_portable +=1"
   ]
  },
  {
   "cell_type": "markdown",
   "id": "f7359b15-500d-4954-bd17-13ed3214b78a",
   "metadata": {},
   "source": [
    "On crée une classe Telephone_portable avec une seule méthode à l'intérieur, elle prend en argument différentes variables d'instance communes à tous les téléphones portables. On a aussi une variable de classe qui est en réalité un compteur qui s'incrément à chaque création de nouvel objet."
   ]
  },
  {
   "cell_type": "markdown",
   "id": "7278e65d-6f9b-4b23-9144-93aafbfc7cae",
   "metadata": {},
   "source": [
    "# Création d'une classe fille"
   ]
  },
  {
   "cell_type": "code",
   "execution_count": 50,
   "id": "a068e169-63cb-4cc5-9811-a7157d16346f",
   "metadata": {},
   "outputs": [],
   "source": [
    "#1\n",
    "class Smartphone(Telephone_portable): \n",
    "    nb_smartphones = 0\n",
    "    def __init__(self, marque, modele, prix, clapet, capacite_memoire, resolution_appareil_photo, acces_internet, coloris):\n",
    "        super().__init__(marque, modele, prix, clapet, coloris)\n",
    "        self.capacite_memoire = capacite_memoire\n",
    "        self.resolution_appareil_photo = resolution_appareil_photo\n",
    "        self.acces_internet = acces_internet\n",
    "        self.conn = sqlite3.connect('C:\\\\Users\\\\fabie\\\\OneDrive\\\\Bureau\\\\Cours Estiam\\\\Python poo\\\\out\\\\smartphones.db')\n",
    "        self.cur = self.conn.cursor()\n",
    "        Smartphone.nb_smartphones +=1\n",
    "#2\n",
    "    def description(self): #2\n",
    "            print(f\"C'est un {self.modele} de la marque {self.marque} avec {self.capacite_memoire} Go de mémoire, avec un appareil photo de\"\n",
    "                  f\"{self.resolution_appareil_photo} Mpx, de couleur {self.coloris} pour le prix de {self.prix}€\")\n",
    "            if self.acces_internet == True:\n",
    "                print(\"J'ai accès à internet'\")\n",
    "            else:\n",
    "                print(\"Je n'ai pas accès à internet\")\n",
    "\n",
    "#3\n",
    "    def __str__(self): #3\n",
    "        return self.marque + ' ' + self.modele +' ' + self.coloris + ' ' + str(self.prix)\n",
    "#3     \n",
    "    def __add__(self, elt): #3\n",
    "        return  self.prix + elt.prix \n",
    "#4\n",
    "    def create_smartphones_table(self): \n",
    "        self.cur.execute(\"\"\"CREATE TABLE IF NOT EXISTS smartphones (\n",
    "            idPhone INTEGER PRIMARY KEY NOT NULL,\n",
    "            marque VARCHAR(50) NOT NULL,\n",
    "            modele VARCHAR(100) NOT NULL UNIQUE,\n",
    "            prix DECIMAL(10, 2) NOT NULL,\n",
    "            clapet BOOL NOT NULL,\n",
    "            capaciteMemoire INTEGER NOT NULL,\n",
    "            resolutionAppareilPhoto INT NOT NULL,\n",
    "            accesInternet BOOL NOT NULL,\n",
    "            coloris VARCHAR(50)\n",
    "            );\"\"\")"
   ]
  },
  {
   "cell_type": "markdown",
   "id": "9a5fc2e7-7a1b-4be5-9e12-2fee7369643e",
   "metadata": {},
   "source": [
    "1 - La classe Smartphone hérite de la classe mère Telephone_portable et donc des variables d'instances peuvent être communes comme\n",
    "* La marque\n",
    "* Le modèle\n",
    "* Le prix\n",
    "* ...\n",
    "\n",
    " Elles se retrouvent dans les arguments de \\_\\_init__() car ils font parti de l'objet Smartphone et sont définies grâce à super().\\_\\_init__ qui fait référence à la classe mère. On ajoute d'autres variables d'instances spécifiques aux smartphones afin de distinguer les différents objets.\n",
    "Le self.conn et self.cur permettent de stocker les téléphones dans la base de données 'smartphones.db'"
   ]
  },
  {
   "cell_type": "markdown",
   "id": "c9b29389-3784-4c96-84c0-3ab41033717e",
   "metadata": {},
   "source": [
    "2 - On reste dans la classe Smartphone et on définit une classe publique qui permet d'afficher les valeurs correspondant à chaque variable d'instance"
   ]
  },
  {
   "cell_type": "markdown",
   "id": "65c426cd-cfa7-4413-8a6d-5ab342e2e1c2",
   "metadata": {},
   "source": [
    "3 - J'ai créé deux méthodes privées pour que la fonction 'print()' et '+' ai plus de sens pour mes objets. Dans le premier cas on affiche la marque, le modèle, la couleur et le prix de l'objet ; dans l'autre cas on ajoute les prix des deux objets."
   ]
  },
  {
   "cell_type": "markdown",
   "id": "f627c8b2-f19f-4d5e-9159-9ac30a9b46dd",
   "metadata": {},
   "source": [
    "4 - Grâce à la fonction create_smartphone_table() j'ai créé une table correspondant à mes objets qui renseigne chaque variable et les ajoute en tant que colonne de la base de données"
   ]
  },
  {
   "cell_type": "code",
   "execution_count": 44,
   "id": "a8dfda54-a7b5-45f3-83b0-0a7d6a352609",
   "metadata": {},
   "outputs": [
    {
     "name": "stdout",
     "output_type": "stream",
     "text": [
      "C'est un iPhone X de la marque Apple avec 128 Go de mémoire, avec un appareil photo de12 Mpx, de couleur Rouge pour le prix de 559€\n",
      "J'ai accès à internet'\n"
     ]
    }
   ],
   "source": [
    "s1=Smartphone('Apple', 'iPhone 15', 1100, False, 256, 48, True, \"Titane\")\n",
    "s2=Smartphone('Apple', 'iPhone X', 559, False, 128, 12, True, \"Rouge\")\n",
    "s3=Smartphone('Samsung', 'Galaxy S22', 998, False, 256, 12, True, \"Blanc\")\n",
    "s4=Smartphone(\"Huawei\", \"P50 Pro\", 999, False, 256, 50, True, \"Vert\")\n",
    "s5=Smartphone(\"Samsung\", \"Z Flip\", 851, True, 256, 12, True, \"Noir\")\n",
    "\n",
    "smartphones = [s1, s2, s3, s4, s5]  \n",
    "choix_s = rdm.choice(smartphones)\n",
    "choix_s.description()"
   ]
  },
  {
   "cell_type": "markdown",
   "id": "6e734409-18f4-40a5-8e88-c3d7a8e4675f",
   "metadata": {},
   "source": [
    "Ici j'ai créé 5 smartphones grâce à la classe du même nom que j'ai mis dans une liste afin de pouvoir utiliser la méthode description sur un objet aléatoire"
   ]
  },
  {
   "cell_type": "code",
   "execution_count": 46,
   "id": "9b11d2ec-7a2a-43b2-8a71-eedc74173749",
   "metadata": {},
   "outputs": [
    {
     "data": {
      "text/plain": [
       "1659"
      ]
     },
     "execution_count": 46,
     "metadata": {},
     "output_type": "execute_result"
    }
   ],
   "source": [
    "s1+s2"
   ]
  },
  {
   "cell_type": "markdown",
   "id": "300ea068-de44-4bf0-9cfd-1746550a85e0",
   "metadata": {},
   "source": [
    "Voici un exemple de la méthode \\_\\_add__."
   ]
  },
  {
   "cell_type": "code",
   "execution_count": 49,
   "id": "eb631f91-24ec-46cb-8f04-77545d884301",
   "metadata": {},
   "outputs": [
    {
     "name": "stdout",
     "output_type": "stream",
     "text": [
      "Apple iPhone 15 Titane 1100\n"
     ]
    }
   ],
   "source": [
    "print(s1)"
   ]
  },
  {
   "cell_type": "markdown",
   "id": "9fa9a318-098a-4b70-82fb-ba6eb096b209",
   "metadata": {},
   "source": [
    "Et là un exemple de la méthode \\_\\_str__."
   ]
  }
 ],
 "metadata": {
  "kernelspec": {
   "display_name": "Python 3 (ipykernel)",
   "language": "python",
   "name": "python3"
  },
  "language_info": {
   "codemirror_mode": {
    "name": "ipython",
    "version": 3
   },
   "file_extension": ".py",
   "mimetype": "text/x-python",
   "name": "python",
   "nbconvert_exporter": "python",
   "pygments_lexer": "ipython3",
   "version": "3.11.5"
  }
 },
 "nbformat": 4,
 "nbformat_minor": 5
}
