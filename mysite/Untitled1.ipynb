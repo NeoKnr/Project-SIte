{
 "cells": [
  {
   "cell_type": "markdown",
   "id": "9bdae682-f013-49b5-9e4a-9ff5b6413133",
   "metadata": {},
   "source": [
    "# Création de la classe mère"
   ]
  },
  {
   "cell_type": "code",
   "execution_count": 1,
   "id": "da0a6449-17f8-43d3-85ec-9acbd1ea0bf6",
   "metadata": {},
   "outputs": [],
   "source": [
    "class Telephone_portable:\n",
    "    nb_telephones_portable = 0\n",
    "    def __init__(self, marque, modele, prix, clapet, coloris):\n",
    "        self.marque = marque\n",
    "        self.modele = modele\n",
    "        self.prix = prix\n",
    "        self.clapet = clapet\n",
    "        self.coloris = coloris\n",
    "        Telephone_portable.nb_telephones_portable +=1"
   ]
  },
  {
   "cell_type": "markdown",
   "id": "f7359b15-500d-4954-bd17-13ed3214b78a",
   "metadata": {},
   "source": [
    "On crée une classe Telephone_portable avec une seule méthode à l'intérieur, elle prend en argument différentes variables d'instance communes à tous les téléphones portables. On a aussi une variable de classe qui est en réalité un compteur qui s'incrément à chaque création de nouvel objet."
   ]
  },
  {
   "cell_type": "markdown",
   "id": "7278e65d-6f9b-4b23-9144-93aafbfc7cae",
   "metadata": {},
   "source": [
    "# Création d'une classe fille"
   ]
  },
  {
   "cell_type": "code",
   "execution_count": 3,
   "id": "a068e169-63cb-4cc5-9811-a7157d16346f",
   "metadata": {},
   "outputs": [],
   "source": [
    "class Smartphone(Telephone_portable):\n",
    "    nb_smartphones = 0\n",
    "    def __init__(self, marque, modele, prix, clapet, capacite_memoire, resolution_appareil_photo, acces_internet, coloris):\n",
    "        super().__init__(marque, modele, prix, clapet, coloris)\n",
    "        self.capacite_memoire = capacite_memoire\n",
    "        self.resolution_appareil_photo = resolution_appareil_photo\n",
    "        self.acces_internet = acces_internet\n",
    "        Smartphone.nb_smartphones +=1"
   ]
  },
  {
   "cell_type": "markdown",
   "id": "9a5fc2e7-7a1b-4be5-9e12-2fee7369643e",
   "metadata": {},
   "source": [
    "La classe Smartphone hérite de la classe mère Telephone_portable et donc des variables d'instances peuvent être communes comme\n",
    "* La marque\n",
    "* Le modèle\n",
    "* Le prix\n",
    "* ...\n",
    "  Elles se retrouvent dans les arguments de \\_\\_init__() car ils font parti de l'objet Smartphone et sont définies grâce à super().\\_\\_init__ qui fait référence à la classe mère. On ajoute d'autres variables d'instances spécifiques aux smartphones afin de distinguer les différents objets"
   ]
  },
  {
   "cell_type": "code",
   "execution_count": 6,
   "id": "c5508cd1-5bf0-4518-a939-36fdb67fa17a",
   "metadata": {},
   "outputs": [],
   "source": [
    "    def description(self):\n",
    "            print(f\"C'est un {self.modele} de la marque {self.marque} avec {self.capacite_memoire} Go de mémoire, avec un appareil photo de\"\n",
    "                  f\"{self.resolution_appareil_photo} Mpx, de couleur {self.coloris} pour le prix de {self.prix}€\")\n",
    "            if self.acces_internet == True:\n",
    "                print(\"J'ai accès à internet'\")\n",
    "            else:\n",
    "                print(\"Je n'ai pas accès à internet\")"
   ]
  },
  {
   "cell_type": "markdown",
   "id": "c9b29389-3784-4c96-84c0-3ab41033717e",
   "metadata": {},
   "source": [
    "On reste dans la classe Smartphone et on définit une classe publique qui permet d'afficher les valeurs correspondant à chaque variable d'instance"
   ]
  },
  {
   "cell_type": "code",
   "execution_count": 7,
   "id": "6d25c814-4a94-4567-87c2-5714ebf984b1",
   "metadata": {},
   "outputs": [],
   "source": [
    "    def __add__(self, elt):\n",
    "        print(self.prix + elt.prix)\n",
    "        return  self.prix + elt.prix\n",
    "    \n",
    "    def __str__(self):\n",
    "        return self.marque + ' ' + self.modele +' ' + self.coloris + ' ' + str(self.prix)"
   ]
  },
  {
   "cell_type": "markdown",
   "id": "65c426cd-cfa7-4413-8a6d-5ab342e2e1c2",
   "metadata": {},
   "source": []
  }
 ],
 "metadata": {
  "kernelspec": {
   "display_name": "Python 3 (ipykernel)",
   "language": "python",
   "name": "python3"
  },
  "language_info": {
   "codemirror_mode": {
    "name": "ipython",
    "version": 3
   },
   "file_extension": ".py",
   "mimetype": "text/x-python",
   "name": "python",
   "nbconvert_exporter": "python",
   "pygments_lexer": "ipython3",
   "version": "3.11.5"
  }
 },
 "nbformat": 4,
 "nbformat_minor": 5
}
